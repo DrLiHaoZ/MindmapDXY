{
 "cells": [
  {
   "cell_type": "code",
   "execution_count": 2,
   "metadata": {},
   "outputs": [],
   "source": [
    "import scipy\n",
    "import math\n",
    "import sympy"
   ]
  },
  {
   "cell_type": "markdown",
   "metadata": {},
   "source": [
    "- Newton-Raphson methods \n",
    "\n",
    "$x_{i+1} = x_i - \\frac{f(x_i)}{f'(x_i)}$"
   ]
  },
  {
   "cell_type": "code",
   "execution_count": null,
   "metadata": {},
   "outputs": [],
   "source": [
    "def solve(self,xi,epoch = 10):\n",
    "    for i in range(epoch):\n",
    "        xii = xi - f/fd\n",
    "class Solve:\n",
    "    def __init__(self,formula):\n",
    "        self.formula = formula\n",
    "        self.differentiate = sympy.diff(self.formula)\n",
    "        self.xi = 0\n",
    "    def __call__(self,x):\n",
    "        for i in range(10):\n",
    "            self.xi = self.xi - self.formula\n",
    "        return self.differentiate()"
   ]
  }
 ],
 "metadata": {
  "interpreter": {
   "hash": "04ef4f95052bc14c2a6093cbd188019300ce4f6c85f9bbc5b12d09e49dbdf28e"
  },
  "kernelspec": {
   "display_name": "Python 3.6.13 ('nlp')",
   "language": "python",
   "name": "python3"
  },
  "language_info": {
   "codemirror_mode": {
    "name": "ipython",
    "version": 3
   },
   "file_extension": ".py",
   "mimetype": "text/x-python",
   "name": "python",
   "nbconvert_exporter": "python",
   "pygments_lexer": "ipython3",
   "version": "3.6.13"
  },
  "orig_nbformat": 4
 },
 "nbformat": 4,
 "nbformat_minor": 2
}
