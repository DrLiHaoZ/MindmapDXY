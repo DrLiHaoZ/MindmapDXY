{
 "cells": [
  {
   "cell_type": "markdown",
   "metadata": {},
   "source": [
    "$ c = \\sqrt{a^2 + b^2} $\n",
    "$$ c = \\sqrt{a^2 + b^2} $$"
   ]
  },
  {
   "cell_type": "markdown",
   "metadata": {},
   "source": [
    "$ \\sum _{i = 1}^{n} a _1$"
   ]
  },
  {
   "cell_type": "markdown",
   "metadata": {},
   "source": [
    "分数\n",
    "\n",
    "$ \\frac{1+1}{1+1}$"
   ]
  },
  {
   "cell_type": "markdown",
   "metadata": {},
   "source": [
    "$\\sum_{i=1}^{n}i$\n",
    "\n",
    "$\\lim_{x\\to0}x^2$\n",
    "\n",
    "$\\int_{x = 0}^{x = 5}x^2$\n",
    "\n"
   ]
  }
 ],
 "metadata": {
  "interpreter": {
   "hash": "1513c558104143c9342deba70e5828cd4c39a134479ea9220253fbe85c0c4494"
  },
  "kernelspec": {
   "display_name": "Python 3.9.7 64-bit ('nlp': conda)",
   "language": "python",
   "name": "python3"
  },
  "language_info": {
   "codemirror_mode": {
    "name": "ipython",
    "version": 3
   },
   "file_extension": ".py",
   "mimetype": "text/x-python",
   "name": "python",
   "nbconvert_exporter": "python",
   "pygments_lexer": "ipython3",
   "version": "3.9.7"
  },
  "orig_nbformat": 4
 },
 "nbformat": 4,
 "nbformat_minor": 2
}
