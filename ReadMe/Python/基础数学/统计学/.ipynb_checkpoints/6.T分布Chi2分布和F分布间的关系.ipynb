{
 "cells": [
  {
   "cell_type": "code",
   "execution_count": 1,
   "metadata": {},
   "outputs": [],
   "source": [
    "import numpy as np\n",
    "import seaborn as sns \n",
    "import random"
   ]
  },
  {
   "cell_type": "markdown",
   "metadata": {},
   "source": [
    "t versus $\\chi^2$\n",
    "\n",
    "if X1,...,Xn iid $N(\\mu,\\sigma^2)$,then:"
   ]
  },
  {
   "cell_type": "markdown",
   "metadata": {},
   "source": [
    "$\\frac{\\bar{X}-\\mu}{\\sigma/\\sqrt n}\\sim N(0,1)$"
   ]
  },
  {
   "cell_type": "markdown",
   "metadata": {},
   "source": [
    "但是$\\sigma$未知的时候\n",
    "则用样本的方差$\\hat \\sigma$来代替$\\sigma$，则有："
   ]
  },
  {
   "cell_type": "markdown",
   "metadata": {},
   "source": [
    "$\\frac{\\bar X-\\mu}{\\hat \\sigma / \\sqrt n}\\sim t_{n-1}$"
   ]
  },
  {
   "cell_type": "markdown",
   "metadata": {},
   "source": [
    "而 $\\hat \\sigma = \\sqrt{\\frac{\\sum(X_i - \\bar X)^2}{n-1}}$  "
   ]
  },
  {
   "cell_type": "markdown",
   "metadata": {},
   "source": [
    "$\\frac{\\bar X-\\mu}{\\hat \\sigma / \\sqrt n} = \\frac{\\bar X-\\mu}{ \\sigma / \\sqrt n} \\cdot \\frac{1}{\\frac{\\hat \\sigma}{\\sigma}} $"
   ]
  }
 ],
 "metadata": {
  "interpreter": {
   "hash": "658f2c8c08232f4d071abc7de22d46f1ac00b3f0cb9659e9d4511b6bb957757a"
  },
  "kernelspec": {
   "display_name": "Python 3.9.10 ('base')",
   "language": "python",
   "name": "python3"
  },
  "language_info": {
   "codemirror_mode": {
    "name": "ipython",
    "version": 3
   },
   "file_extension": ".py",
   "mimetype": "text/x-python",
   "name": "python",
   "nbconvert_exporter": "python",
   "pygments_lexer": "ipython3",
   "version": "3.9.10"
  },
  "orig_nbformat": 4
 },
 "nbformat": 4,
 "nbformat_minor": 2
}
