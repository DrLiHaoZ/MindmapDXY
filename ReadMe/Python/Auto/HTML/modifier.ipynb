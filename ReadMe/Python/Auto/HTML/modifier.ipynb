{
 "cells": [
  {
   "cell_type": "code",
   "execution_count": 1,
   "metadata": {},
   "outputs": [
    {
     "data": {
      "text/plain": [
       "'\\nwith open(\"./test.html\") as fp:\\n    soup = BeautifulSoup(fp,\\'html.parser\\')\\n'"
      ]
     },
     "execution_count": 1,
     "metadata": {},
     "output_type": "execute_result"
    }
   ],
   "source": [
    "from bs4 import BeautifulSoup\n",
    "\n",
    "\n",
    "\"\"\"\n",
    "with open(\"./test.html\") as fp:\n",
    "    soup = BeautifulSoup(fp,'html.parser')\n",
    "\"\"\""
   ]
  },
  {
   "cell_type": "code",
   "execution_count": 39,
   "metadata": {},
   "outputs": [],
   "source": [
    "file =  open(\"./test.html\",'r') \n",
    "lines = file.readlines()\n",
    "\n",
    "#########################################################\n",
    "#基本操作部分重构代码#\n",
    "#注意3.职业素养部分需要手动另起一行\n",
    "for i in range(len(lines)):\n",
    "    if (\"1.\" == lines[i][:2])  or (\"2.\" == lines[i][:2]) or (\"3.\" == lines[i][:2]) or (\"4.\" == lines[i][:2])or (\"5.\" == lines[i][:2]):\n",
    "        lines[i] = \"<strong>\" + lines[i][:-1] + \"</strong>\" + \"\\n\"\n",
    "#给每一行加<p></p>\n",
    "\n",
    "for i in range(len(lines)):\n",
    "    lines[i] = \"<p>\" + lines[i][:] + \"</p>\" + \"\\n\"\n",
    "#########################################################\n",
    "\n",
    "\"\"\"\n",
    "for i in range(len(lines)):\n",
    "    if (\"一、\" in lines[i])  or (\"二、\" in lines[i]) or (\"三、\" in lines[i]) or (\"四、\" in lines[i]) or (\"五、\" in lines[i]) :\n",
    "         lines[i] = \"<h3 style=\\\"background-color:#ddecfc;\\\">\" + lines[i][:-1] + \"</h3>\" + \"\\n\"\n",
    "\"\"\"\n",
    "\n",
    "output = open(\"./output.html\",'w')\n",
    "output.writelines(lines)\n",
    "output.close()\n",
    "file.close()\n"
   ]
  },
  {
   "cell_type": "code",
   "execution_count": 9,
   "metadata": {},
   "outputs": [
    {
     "name": "stdout",
     "output_type": "stream",
     "text": [
      "['一、现病史 1.根据主诉及相关鉴别询问\\n', '（1）发病的诱因：有无劳累、外伤、着凉。 1.0分\\n', '（2）发热：程度、持续时间、热型，有无畏寒、寒战。 2.0分\\n', '（3）淋巴结肿大：肿大淋巴结如何发现，大小和数目，有无疼痛，是否呈进行性肿大。局部皮肤有无变化，其他部位淋巴结有无肿大。 2.0分\\n', '（4）伴随症状：有无牙龈肿痛、咽痛、流涕和咳嗽，有无乏力、盗汗、消瘦，有无皮肤瘙痒、苍白、出血，有无口腔溃疡、光过敏、关节痛和皮疹。 1.0分\\n', '2.诊疗经过\\n', '（1）是否曾到医院就诊，做过哪些检查，如：胸部X线片或CT、腹部和浅表淋巴结B超、血常规、淋巴结活检、骨髓细胞学检查。 2.0分\\n', '（2）治疗情况：治疗情况：是否使用抗菌药物治疗，疗效如何。 1.0分\\n', '3. 一般情况\\n', '发病以来饮食、睡眠、大小便、体重等情况。 1.0分\\n', '二、其它相关病史 1.有无食物药物过敏史。 0.5分\\n', '2.与该病有关的其他病史：有无血液病、肿瘤、结缔组织病病史，有无结核病和病毒感染史。生活、工作环境情况。有无相关疾病家族史。 2.5分']\n"
     ]
    },
    {
     "data": {
      "text/plain": [
       "[0, 10]"
      ]
     },
     "execution_count": 9,
     "metadata": {},
     "output_type": "execute_result"
    }
   ],
   "source": [
    "# 使用正则表达式来匹配\n",
    "import re\n",
    "file =  open(\"./test.html\",'r') \n",
    "lines = file.readlines()\n",
    "\n",
    "string = []\n",
    "\n",
    "for i in lines:\n",
    "    string.append(i)\n",
    "print(string)\n",
    "\n",
    "matched = []\n",
    "for j in range(len(string)):\n",
    "    if re.match(r'^.、',string[j]):\n",
    "        matched.append(j)\n",
    "matched\n"
   ]
  }
 ],
 "metadata": {
  "interpreter": {
   "hash": "bc00d93549840f82d8acc721d5c7e03f45705ab4bd4c4e913c35136c2ef2ccbe"
  },
  "kernelspec": {
   "display_name": "Python 3.9.7 ('learn')",
   "language": "python",
   "name": "python3"
  },
  "language_info": {
   "codemirror_mode": {
    "name": "ipython",
    "version": 3
   },
   "file_extension": ".py",
   "mimetype": "text/x-python",
   "name": "python",
   "nbconvert_exporter": "python",
   "pygments_lexer": "ipython3",
   "version": "3.9.7"
  },
  "orig_nbformat": 4
 },
 "nbformat": 4,
 "nbformat_minor": 2
}
