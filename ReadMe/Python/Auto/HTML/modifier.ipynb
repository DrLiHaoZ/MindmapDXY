{
 "cells": [
  {
   "cell_type": "code",
   "execution_count": 1,
   "metadata": {},
   "outputs": [],
   "source": [
    "from bs4 import BeautifulSoup\n",
    "\n",
    "\n",
    "\"\"\"\n",
    "with open(\"./test.html\") as fp:\n",
    "    soup = BeautifulSoup(fp,'html.parser')\n",
    "\"\"\""
   ]
  },
  {
   "cell_type": "code",
   "execution_count": 3,
   "metadata": {},
   "outputs": [
    {
     "name": "stdout",
     "output_type": "stream",
     "text": [
      "['<h4><p>1.操作前准备</p></h4>', '<p>（1）患者头部垫薄枕，使口、咽、喉三轴线尽量呈一致走向。操作者站于患者头侧。 2分</p>\\n', '<h4><p>2.气管内插管操作过程</p></h4>', '<p>（1）右手拇指和示指呈“剪刀式”交叉，拇指推开患者下磨牙，示指抵住上门齿，打开口腔。 2分</p>\\n', '<p>（2）左手持喉镜，自口右侧口角置入，将舌体挡向左侧，再将镜移至正中，见到悬雍垂。 2分</p>\\n', '<p>（3）沿舌背弧度将镜再稍向前置入咽部，见到会厌。 2分</p>\\n', '<p>（4）提拉喉镜显露声门，右手以握笔状持导管从右侧弧形斜插口中，将导管前端对准声门后轻柔地插入气管内。 2分</p>\\n', '<p>（5）嘱助手拔出导管管芯，继续将导管送入（成人约2～3cm），导管尖端距离门齿约22±2cm。 2分</p>\\n', '<p>（6）放置牙垫，退出喉镜。 1分</p>\\n', '<p>（7）套囊充气，连接简易呼吸器。 1分</p>\\n', '<p>（8）初步确认气管导管位置：按压呼吸球囊人工通气，双侧胸廓对称起伏，听诊器双肺呼吸音固定存在且对称，初步确认气管导管位置正确。 2分</p>\\n', '<p>（9）固定导管，胶布将牙垫与气管导管固定于面颊，将头部复位。 1分</p>\\n', '<p>（10）连接呼吸机进行人工通气。 1分</p>\\n', '<h4><p>3.职业素养：操作过程无菌观念强、动作规范、爱伤意识、良好的职业素养等。 2</p></h4>']\n"
     ]
    }
   ],
   "source": [
    "file =  open(\"./test.html\",'r') \n",
    "lines = file.readlines()\n",
    "for i in range(len(lines)):\n",
    "    lines[i] = \"<p>\" + lines[i][:-1] + \"</p>\" + \"\\n\"\n",
    "\n",
    "for i in range(len(lines)):\n",
    "    if (\"一、\" in lines[i])  or (\"二、\" in lines[i]) or (\"三、\" in lines[i]) or (\"四、\" in lines[i]):\n",
    "         lines[i] = \"<h3>\" + lines[i][:-1] + \"</h3>\" + \"\\n\"\n",
    "\n",
    "for i in range(len(lines)):\n",
    "    if (\"1.\" in lines[i])  or (\"2.\" in lines[i]) or (\"3.\" in lines[i]) or (\"4.\" in lines[i]) :\n",
    "        if (\"（1）\" not in lines[i]) and (\"（2）\" not in lines[i]) and (\"（3）\" not in lines[i]) and ( \"（4）\" not in lines[i]):\n",
    "            lines[i] = \"<h4>\" + lines[i][:-1] + \"</h4>\"\n",
    "\n",
    "file.close()\n",
    "\n",
    "print(lines)\n",
    "output = open(\"./output.html\",'w')\n",
    "output.writelines(lines)\n",
    "output.close()"
   ]
  },
  {
   "cell_type": "code",
   "execution_count": 27,
   "metadata": {},
   "outputs": [
    {
     "data": {
      "text/plain": [
       "'<h3>一、初步诊断 4分</h3>'"
      ]
     },
     "execution_count": 27,
     "metadata": {},
     "output_type": "execute_result"
    }
   ],
   "source": []
  }
 ],
 "metadata": {
  "interpreter": {
   "hash": "bc00d93549840f82d8acc721d5c7e03f45705ab4bd4c4e913c35136c2ef2ccbe"
  },
  "kernelspec": {
   "display_name": "Python 3.9.7 ('learn')",
   "language": "python",
   "name": "python3"
  },
  "language_info": {
   "codemirror_mode": {
    "name": "ipython",
    "version": 3
   },
   "file_extension": ".py",
   "mimetype": "text/x-python",
   "name": "python",
   "nbconvert_exporter": "python",
   "pygments_lexer": "ipython3",
   "version": "3.9.7"
  },
  "orig_nbformat": 4
 },
 "nbformat": 4,
 "nbformat_minor": 2
}
