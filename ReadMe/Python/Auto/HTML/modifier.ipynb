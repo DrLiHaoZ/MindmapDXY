{
 "cells": [
  {
   "cell_type": "code",
   "execution_count": 1,
   "metadata": {},
   "outputs": [
    {
     "data": {
      "text/plain": [
       "'\\nwith open(\"./test.html\") as fp:\\n    soup = BeautifulSoup(fp,\\'html.parser\\')\\n'"
      ]
     },
     "execution_count": 1,
     "metadata": {},
     "output_type": "execute_result"
    }
   ],
   "source": [
    "from bs4 import BeautifulSoup\n",
    "\n",
    "\n",
    "\"\"\"\n",
    "with open(\"./test.html\") as fp:\n",
    "    soup = BeautifulSoup(fp,'html.parser')\n",
    "\"\"\""
   ]
  },
  {
   "cell_type": "code",
   "execution_count": 7,
   "metadata": {},
   "outputs": [],
   "source": [
    "file =  open(\"./test.html\",'r') \n",
    "lines = file.readlines()\n",
    "\n",
    "#########################################################\n",
    "#基本操作部分重构代码#\n",
    "#注意3.职业素养部分需要手动另起一行\n",
    "for i in range(len(lines)):\n",
    "    if (\"1.\" == lines[i][:2])  or (\"2.\" == lines[i][:2]) or (\"3.\" == lines[i][:2]) or (\"4.\" == lines[i][:2]):\n",
    "        lines[i] = \"<strong>\" + lines[i][:-1] + \"</strong>\" + \"\\n\"\n",
    "#给每一行加<p></p>\n",
    "\n",
    "for i in range(len(lines)):\n",
    "    lines[i] = \"<p>\" + lines[i][:-1] + \"</p>\" + \"\\n\"\n",
    "#########################################################\n",
    "\n",
    "\"\"\"\n",
    "for i in range(len(lines)):\n",
    "    if (\"一、\" in lines[i])  or (\"二、\" in lines[i]) or (\"三、\" in lines[i]) or (\"四、\" in lines[i]) or (\"五、\" in lines[i]) :\n",
    "         lines[i] = \"<h3 style=\\\"background-color:#ddecfc;\\\">\" + lines[i][:-1] + \"</h3>\" + \"\\n\"\n",
    "\"\"\"\n",
    "\n",
    "output = open(\"./output.html\",'w')\n",
    "output.writelines(lines)\n",
    "output.close()\n",
    "file.close()\n"
   ]
  },
  {
   "cell_type": "code",
   "execution_count": 38,
   "metadata": {},
   "outputs": [
    {
     "data": {
      "text/plain": [
       "'1.消毒前准备\\n'"
      ]
     },
     "execution_count": 38,
     "metadata": {},
     "output_type": "execute_result"
    }
   ],
   "source": [
    "file =  open(\"./test.html\",'r') \n",
    "lines = file.readlines()\n",
    "lines[0]"
   ]
  }
 ],
 "metadata": {
  "interpreter": {
   "hash": "bc00d93549840f82d8acc721d5c7e03f45705ab4bd4c4e913c35136c2ef2ccbe"
  },
  "kernelspec": {
   "display_name": "Python 3.9.7 ('learn')",
   "language": "python",
   "name": "python3"
  },
  "language_info": {
   "codemirror_mode": {
    "name": "ipython",
    "version": 3
   },
   "file_extension": ".py",
   "mimetype": "text/x-python",
   "name": "python",
   "nbconvert_exporter": "python",
   "pygments_lexer": "ipython3",
   "version": "3.9.7"
  },
  "orig_nbformat": 4
 },
 "nbformat": 4,
 "nbformat_minor": 2
}
