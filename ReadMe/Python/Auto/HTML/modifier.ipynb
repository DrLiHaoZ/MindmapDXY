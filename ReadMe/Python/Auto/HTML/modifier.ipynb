{
 "cells": [
  {
   "cell_type": "code",
   "execution_count": null,
   "metadata": {},
   "outputs": [],
   "source": [
    "#from bs4 import BeautifulSoup\n",
    "\n",
    "\n",
    "\"\"\"\n",
    "with open(\"./test.html\") as fp:\n",
    "    soup = BeautifulSoup(fp,'html.parser')\n",
    "\"\"\""
   ]
  },
  {
   "cell_type": "code",
   "execution_count": 31,
   "metadata": {},
   "outputs": [
    {
     "name": "stdout",
     "output_type": "stream",
     "text": [
      "['<h3>1.消毒前准备</h3>\\n', '（1）戴帽子、口罩（头发、鼻孔不外漏）。 0.5分\\n', '（2）手术野皮肤暴露范围正确：上自乳头连线水平以上，下至大腿中段，两侧至腋后线。 1分\\n', '（3）手臂消毒（口述）。 0.5分\\n', '<h3>2.消毒操作过程</h3>\\n', '（1）考生一手端盛有2%碘酊或酒精纱布块/棉球的消毒碗，一手持卵圆钳，站立于患者右侧。 1分\\n', '（2）第1遍用碘酊涂擦。 1分\\n', '（3）待晾干后（1～2min），用酒精进行两次脱碘消毒。 1分\\n', '（4）每一遍脱碘消毒不超过前次范围，最后一次脱碘需将边缘碘酊脱尽。 1分\\n', '（5）消毒过程中，一直保持卵圆钳前端低于握持端。 1分\\n', '（6）以右侧旁正中切口为中心，自上而下，由内及外消毒皮肤。 2分\\n', '（7）每一次涂擦过程不留空白区域，如果有空白区需要更换消毒棉球补充消毒。 1分\\n', '（8）消毒范围上至乳头连线，下至大腿中、上1/3交界处，两侧至腋中线。 2分\\n', '<h3>3.铺巾操作过程</h3>\\n', '（1）用四块手术巾，部分反折，铺盖在拟定切开四周，反折部朝下并靠近切口。铺巾后手术野皮肤暴露不宜过于宽大。 2分\\n', '（2）先铺患者会阴侧或考生对侧手术巾，最后铺考生侧的手术巾。 1分\\n', '（3）用四把巾钳固定，固定方法规范。 1分\\n', '（4）铺中单（考官协助）：在拟定切口上下方各铺一块中单。 1分\\n', '（5）铺大单（考官协助）：铺大单时先将洞口对准拟定切口，然后将大单头端盖过麻醉架，两侧和足端下垂超过手术台边30cm。 1分\\n', '<h3>4.职业素养</h3>\\n', '（1）操作过程无菌观念强、动作规范、爱伤意识、良好的职业素养等。 2分']\n"
     ]
    }
   ],
   "source": [
    "file =  open(\"./test.html\",'r') \n",
    "lines = file.readlines()\n",
    "\n",
    "\n",
    "for i in range(len(lines)):\n",
    "    if (\"1.\" == lines[i][:2])  or (\"2.\" == lines[i][:2]) or (\"3.\" == lines[i][:2]) or (\"4.\" == lines[i][:2]):\n",
    "        lines[i] = \"<h3>\" + lines[i][:-1] + \"</h3>\" + \"\\n\"\n",
    "#给每一行加<p></p>\n",
    "\"\"\"\n",
    "for i in range(len(lines)):\n",
    "    lines[i] = \"<p>\" + lines[i][:-1] + \"</p>\" + \"\\n\"\n",
    "#\n",
    "\"\"\"\n",
    "\"\"\"\n",
    "for i in range(len(lines)):\n",
    "    if (\"一、\" in lines[i])  or (\"二、\" in lines[i]) or (\"三、\" in lines[i]) or (\"四、\" in lines[i]) or (\"五、\" in lines[i]) :\n",
    "         lines[i] = \"<h3 style=\\\"background-color:#ddecfc;\\\">\" + lines[i][:-1] + \"</h3>\" + \"\\n\"\n",
    "\"\"\"\n",
    "\n",
    "\n",
    "file.close()\n",
    "\n",
    "print(lines)\n",
    "output = open(\"./output.html\",'w')\n",
    "output.writelines(lines)\n",
    "output.close()\n"
   ]
  },
  {
   "cell_type": "code",
   "execution_count": null,
   "metadata": {},
   "outputs": [],
   "source": []
  }
 ],
 "metadata": {
  "interpreter": {
   "hash": "bc00d93549840f82d8acc721d5c7e03f45705ab4bd4c4e913c35136c2ef2ccbe"
  },
  "kernelspec": {
   "display_name": "Python 3.9.7 ('learn')",
   "language": "python",
   "name": "python3"
  },
  "language_info": {
   "codemirror_mode": {
    "name": "ipython",
    "version": 3
   },
   "file_extension": ".py",
   "mimetype": "text/x-python",
   "name": "python",
   "nbconvert_exporter": "python",
   "pygments_lexer": "ipython3",
   "version": "3.9.7"
  },
  "orig_nbformat": 4
 },
 "nbformat": 4,
 "nbformat_minor": 2
}
