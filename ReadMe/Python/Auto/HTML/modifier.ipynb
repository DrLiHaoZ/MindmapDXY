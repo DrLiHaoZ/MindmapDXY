{
 "cells": [
  {
   "cell_type": "code",
   "execution_count": 1,
   "metadata": {},
   "outputs": [],
   "source": [
    "from bs4 import BeautifulSoup\n",
    "\n",
    "\n",
    "\"\"\"\n",
    "with open(\"./test.html\") as fp:\n",
    "    soup = BeautifulSoup(fp,'html.parser')\n",
    "\"\"\""
   ]
  },
  {
   "cell_type": "code",
   "execution_count": 32,
   "metadata": {},
   "outputs": [
    {
     "name": "stdout",
     "output_type": "stream",
     "text": [
      "['<h3>一、初步诊断 4分</h3>', '<p>1.支气管哮喘 急性发作期（仅答“支气管哮喘”得2分）。 3分</p>', '2.右下肺炎（仅答“肺炎”得0.5分）（可补充诊断“过敏性鼻炎”）。 1分\\n', '二、诊断依据（初步诊断错误，诊断依据不得分，未分别列出各自诊断依据，扣1分） 6分\\n', '1.支气管哮喘 急性发作期\\n', '（1）患者中年女性，慢性病程，急性加重，既往过敏性鼻炎病史。 1分\\n', '（2）反复发作性喘息，凌晨多发，呈季节性，激素、支气管扩张剂治疗有效。 1分\\n', '（3）双肺呼气相延长、可闻及较多哮鸣音。 1分\\n', '（4）支气管舒张试验阳性。 1分\\n', '2.右下肺炎\\n', '（1）患者发热、咳嗽、咳黄痰、喘憋加重。 1分\\n', '（2）胸部X线片示右下肺斑片状阴影、血常规中性粒细胞百分比增高。 1分\\n', '三、鉴别诊断 4分\\n', '（1）心力衰竭。 1分\\n', '（2）慢性阻塞性肺疾病。 1分\\n', '（3）变态反应性肺浸润。 1分\\n', '（4）间质性肺炎。 1分\\n', '四、进一步检查 4分\\n', '（1）动脉血气分析。 1分\\n', '（2）外周血嗜酸性粒细胞分类、计数、血IgE。 1分\\n', '（3）肝功能、肾功能、血糖、血电解质、痰病原学检查（涂片、培养、药敏试验）。 1分\\n', '（4）症状控制后复查肺通气功能，皮肤过敏原试验。 1分\\n', '五、治疗原则 4分\\n', '（1）脱离变应原、休息、吸氧、健康教育（避免诱发因素、规律治疗）。 0.5分\\n', '（2）吸入支气管扩张剂，必要时静脉应用糖皮质激素。 1.5分\\n', '（3）止咳、祛痰、退热，必要时机械通气。 1.5分\\n', '（4）抗感染治疗。 0.5分']\n"
     ]
    }
   ],
   "source": [
    "file =  open(\"./test.html\",'r') \n",
    "lines = file.readlines()\n",
    "lines[0] = \"<h3>\" + lines[0][:-1] + \"</h3>\"\n",
    "lines[1] = \"<p>\" + lines[1][:-1] + \"</p>\"\n",
    "file.close()\n",
    "print(lines)\n",
    "output = open(\"./output.html\",'w')\n",
    "output.writelines(lines)\n",
    "output.close()"
   ]
  },
  {
   "cell_type": "code",
   "execution_count": 27,
   "metadata": {},
   "outputs": [
    {
     "data": {
      "text/plain": [
       "'<h3>一、初步诊断 4分</h3>'"
      ]
     },
     "execution_count": 27,
     "metadata": {},
     "output_type": "execute_result"
    }
   ],
   "source": [
    "file =  open(\"./test.html\",'r') \n",
    "lines = file.readlines()\n",
    "lines[0] = \"<h3>\" + lines[0][:-1] + \"</h3>\"\n",
    "lines[0]"
   ]
  }
 ],
 "metadata": {
  "interpreter": {
   "hash": "bc00d93549840f82d8acc721d5c7e03f45705ab4bd4c4e913c35136c2ef2ccbe"
  },
  "kernelspec": {
   "display_name": "Python 3.9.7 ('learn')",
   "language": "python",
   "name": "python3"
  },
  "language_info": {
   "codemirror_mode": {
    "name": "ipython",
    "version": 3
   },
   "file_extension": ".py",
   "mimetype": "text/x-python",
   "name": "python",
   "nbconvert_exporter": "python",
   "pygments_lexer": "ipython3",
   "version": "3.9.7"
  },
  "orig_nbformat": 4
 },
 "nbformat": 4,
 "nbformat_minor": 2
}
