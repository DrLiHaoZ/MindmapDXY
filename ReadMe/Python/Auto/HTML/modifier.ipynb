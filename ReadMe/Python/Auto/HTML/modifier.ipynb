{
 "cells": [
  {
   "cell_type": "code",
   "execution_count": 1,
   "metadata": {},
   "outputs": [],
   "source": [
    "from bs4 import BeautifulSoup\n",
    "\n",
    "with open(\"./test.html\") as fp:\n",
    "    soup = BeautifulSoup(fp,'html.parser')\n"
   ]
  },
  {
   "cell_type": "code",
   "execution_count": 2,
   "metadata": {},
   "outputs": [
    {
     "name": "stdout",
     "output_type": "stream",
     "text": [
      "<h3>\n",
      "<strong>一、现病史</strong>\n",
      "</h3>\n",
      "<h4>\n",
      "<strong>1.根据主诉及相关鉴别询问</strong>\n",
      "</h4>\n",
      "<p>\n",
      "<u>（1）发病的诱因：有无着凉、感染劳累、情绪激动、输液过多、不规律服药。 1.0分 </u>\n",
      "</p>\n",
      "<p>\n",
      "    （2）呼吸困难（气急）：出现及持续的时间及程度，有无加重或缓解的因素，如劳力性、夜间阵发性呼吸困难，端坐呼吸等。 2.0分\n",
      "</p>\n",
      "<p>\n",
      "    （3）咳嗽咳痰：咳嗽性质、音色、程度，发生的时间和规律，痰量、气味，加重或缓解因素（与昼夜、体位、活动关系），以往有无类似发作。 2.0分\n",
      "</p>\n",
      "<p>\n",
      "    （4）伴随症状：有无发热、畏寒，有无心悸、胸痛、乏力、尿量减少、水肿、腹胀、纳差。 1.0分\n",
      "</p>\n",
      "<h4>\n",
      "<strong>2.诊疗经过</strong>\n",
      "</h4>\n",
      "<p>\n",
      "    （1）是否曾到医院就诊，做过哪些检查，如：心电图、胸部X线片、心脏彩超、心肌损伤标志物、脑钠肽、D-二聚体。 2.0分\n",
      "</p>\n",
      "<p>\n",
      "    （2）治疗情况：是否使用强心、利尿、扩血管药物治疗，疗效如何。 1.0分\n",
      "</p>\n",
      "<h4>\n",
      "    3.一般情况\n",
      "</h4>\n",
      "<p>\n",
      "    （1）发病以来饮食、睡眠、大小便、体重等情况。 1.0分\n",
      "</p>\n",
      "<h3>\n",
      "<strong>二、其他相关病史</strong>\n",
      "</h3>\n",
      "<p>\n",
      "    1.有无食物药物过敏史。 0.5分\n",
      "</p>\n",
      "<p>\n",
      "    2.与该病有关的其他病史：有无类似症状发作病史，有无冠心病、心肌病、瓣膜病等心血管疾病病史，有无糖尿病、结缔组织病病史，有无吸烟饮酒嗜好，有无心血管疾病家族史。 2.5分\n",
      "</p>\n"
     ]
    }
   ],
   "source": []
  }
 ],
 "metadata": {
  "interpreter": {
   "hash": "bc00d93549840f82d8acc721d5c7e03f45705ab4bd4c4e913c35136c2ef2ccbe"
  },
  "kernelspec": {
   "display_name": "Python 3.9.7 ('learn')",
   "language": "python",
   "name": "python3"
  },
  "language_info": {
   "codemirror_mode": {
    "name": "ipython",
    "version": 3
   },
   "file_extension": ".py",
   "mimetype": "text/x-python",
   "name": "python",
   "nbconvert_exporter": "python",
   "pygments_lexer": "ipython3",
   "version": "3.9.7"
  },
  "orig_nbformat": 4
 },
 "nbformat": 4,
 "nbformat_minor": 2
}
