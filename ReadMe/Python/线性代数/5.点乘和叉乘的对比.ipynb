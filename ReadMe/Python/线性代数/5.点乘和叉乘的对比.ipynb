{
 "cells": [
  {
   "cell_type": "code",
   "execution_count": 2,
   "metadata": {},
   "outputs": [],
   "source": [
    "import numpy as np"
   ]
  },
  {
   "cell_type": "markdown",
   "metadata": {},
   "source": [
    "## Definition of Dot product\n",
    "> A dot product is the product of the magnitude of the vectors and the cos of the angle between them.\n",
    "- $a . b = |a|.|b| cos \\theta$\n",
    "\n",
    "## Definition of Cross product\n",
    "> A cross product is the product of the magnitude of the vectors and the sine of the angle that they subtend on each other."
   ]
  },
  {
   "cell_type": "code",
   "execution_count": 6,
   "metadata": {},
   "outputs": [
    {
     "name": "stdout",
     "output_type": "stream",
     "text": [
      "the element wise multiplication is : [ 4 10 18]\n",
      "the dot product of two vector is : 32\n",
      "another way to dot product: 32\n",
      "[-3  6 -3]\n"
     ]
    }
   ],
   "source": [
    "a = np.array([1,2,3])\n",
    "b = np.array([4,5,6])\n",
    "# first the element wise multiplication\n",
    "print(\"the element wise multiplication is :\", a * b)\n",
    "\n",
    "# the dot product produce a scalar the measure the |a||b|cos(theta)\n",
    "print(\"the dot product of two vector is :\", np.dot(a,b))\n",
    "# here is another way to get dot product of two vector\n",
    "print(\"another way to dot product:\",a @ b)\n",
    "\n",
    "\n",
    "# cross product produce a vector, remember, this vector is perpendicular to the surface by a & b\n",
    "# and the magnitude of the vector is the area of that quadrangle\n",
    "print(np.cross(a,b))\n"
   ]
  },
  {
   "cell_type": "markdown",
   "metadata": {},
   "source": []
  }
 ],
 "metadata": {
  "interpreter": {
   "hash": "1513c558104143c9342deba70e5828cd4c39a134479ea9220253fbe85c0c4494"
  },
  "kernelspec": {
   "display_name": "Python 3.9.7 64-bit ('nlp': conda)",
   "language": "python",
   "name": "python3"
  },
  "language_info": {
   "codemirror_mode": {
    "name": "ipython",
    "version": 3
   },
   "file_extension": ".py",
   "mimetype": "text/x-python",
   "name": "python",
   "nbconvert_exporter": "python",
   "pygments_lexer": "ipython3",
   "version": "3.9.7"
  },
  "orig_nbformat": 4
 },
 "nbformat": 4,
 "nbformat_minor": 2
}
