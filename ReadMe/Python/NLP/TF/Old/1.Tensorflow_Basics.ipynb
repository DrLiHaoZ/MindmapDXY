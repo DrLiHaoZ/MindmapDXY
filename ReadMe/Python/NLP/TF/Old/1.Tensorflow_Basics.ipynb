{
 "cells": [
  {
   "cell_type": "code",
   "execution_count": 2,
   "metadata": {},
   "outputs": [
    {
     "name": "stdout",
     "output_type": "stream",
     "text": [
      "2.6.0\n"
     ]
    }
   ],
   "source": [
    "import tensorflow as tf\n",
    "import numpy as np\n",
    "print(tf.__version__)"
   ]
  },
  {
   "cell_type": "markdown",
   "metadata": {},
   "source": [
    "# tf.constant & ndim"
   ]
  },
  {
   "cell_type": "code",
   "execution_count": 4,
   "metadata": {},
   "outputs": [
    {
     "name": "stdout",
     "output_type": "stream",
     "text": [
      "tf.Tensor(7, shape=(), dtype=int32)\n"
     ]
    }
   ],
   "source": [
    "# create a tensor with tf.constant\n",
    "scalar = tf.constant(7)\n",
    "print(scalar)"
   ]
  },
  {
   "cell_type": "code",
   "execution_count": 5,
   "metadata": {},
   "outputs": [
    {
     "data": {
      "text/plain": [
       "0"
      ]
     },
     "execution_count": 5,
     "metadata": {},
     "output_type": "execute_result"
    }
   ],
   "source": [
    "# check the dimension of a scalar tensor using the ndim\n",
    "scalar.ndim"
   ]
  },
  {
   "cell_type": "code",
   "execution_count": 6,
   "metadata": {},
   "outputs": [
    {
     "data": {
      "text/plain": [
       "<tf.Tensor: shape=(3,), dtype=int32, numpy=array([1, 2, 3], dtype=int32)>"
      ]
     },
     "execution_count": 6,
     "metadata": {},
     "output_type": "execute_result"
    }
   ],
   "source": [
    "# create a vector using tf.constant\n",
    "vector = tf.constant([1,2,3])\n",
    "vector"
   ]
  },
  {
   "cell_type": "code",
   "execution_count": 7,
   "metadata": {},
   "outputs": [
    {
     "data": {
      "text/plain": [
       "1"
      ]
     },
     "execution_count": 7,
     "metadata": {},
     "output_type": "execute_result"
    }
   ],
   "source": [
    "# check the dimension of our vector\n",
    "vector.ndim"
   ]
  },
  {
   "cell_type": "code",
   "execution_count": 18,
   "metadata": {},
   "outputs": [
    {
     "name": "stdout",
     "output_type": "stream",
     "text": [
      "tf.Tensor(\n",
      "[[1. 2. 3.]\n",
      " [4. 5. 6.]], shape=(2, 3), dtype=float16)\n",
      "\n",
      " the ndim of your tensor is 2.\n",
      "\n",
      " the shape of your tensor is (2, 3).\n"
     ]
    }
   ],
   "source": [
    "# create a matrix using tf.constant\n",
    "matrix = tf.constant([[1,2,3],[4,5,6]],dtype=tf.float16)\n",
    "print(matrix)\n",
    "print(\"\\n the ndim of your tensor is {}.\".format(matrix.ndim))\n",
    "print(\"\\n the shape of your tensor is {}.\".format(matrix.shape))"
   ]
  },
  {
   "cell_type": "code",
   "execution_count": 24,
   "metadata": {},
   "outputs": [
    {
     "name": "stdout",
     "output_type": "stream",
     "text": [
      "[1 2 3 4 5 6 7 8 9] \n",
      "\n",
      "the shape of array: (9,)\n",
      "the dimension of array: 1\n",
      "the shape of the reshaped array is (3, 3).\n",
      "the ndim of the reshaped array is 2.\n"
     ]
    }
   ],
   "source": [
    "# to recap, ndim is actually the length of the shape\n",
    "# you should also notice that np.array similarly has attribute of ndim and shape\n",
    "array = np.arange(start = 1, stop = 10, step = 1)\n",
    "print(array,'\\n')\n",
    "print('the shape of array:' ,array.shape)\n",
    "print('the dimension of array:',array.ndim)\n",
    "# let's reshape the ndarray\n",
    "array_reshaped = np.reshape(array,(3,3)) #(3,3) is the new shape of the array\n",
    "print('the shape of the reshaped array is {}.'.format(array_reshaped.shape))\n",
    "print('the ndim of the reshaped array is {}.'.format(array_reshaped.ndim))"
   ]
  },
  {
   "cell_type": "markdown",
   "metadata": {},
   "source": [
    "# tf.Variable & assign"
   ]
  },
  {
   "cell_type": "code",
   "execution_count": 14,
   "metadata": {},
   "outputs": [
    {
     "name": "stdout",
     "output_type": "stream",
     "text": [
      "<tf.Variable 'Variable:0' shape=(2, 2) dtype=int32, numpy=\n",
      "array([[1, 2],\n",
      "       [3, 4]], dtype=int32)>\n",
      "the first element of changeable tensor is :1\n",
      "the last element of changeable tensor is :4\n"
     ]
    },
    {
     "data": {
      "text/plain": [
       "<tf.Variable 'UnreadVariable' shape=(2, 2) dtype=int32, numpy=\n",
       "array([[3, 4],\n",
       "       [5, 6]], dtype=int32)>"
      ]
     },
     "execution_count": 14,
     "metadata": {},
     "output_type": "execute_result"
    }
   ],
   "source": [
    "# tf.variable is the changable version of tensor\n",
    "changeable_tensor = tf.Variable([[1,2],[3,4]])\n",
    "unchangeable_tensor = tf.constant([1,2])\n",
    "\n",
    "# first the tensor can be indexed by [][]\n",
    "print(changeable_tensor)\n",
    "print('the first element of changeable tensor is :{}'.format(changeable_tensor[0][0]))\n",
    "print('the last element of changeable tensor is :{}'.format(changeable_tensor[1][1]))\n",
    "\n",
    "# the item-wise assign fail , but I can reassin the whole thing\n",
    "changeable_tensor.assign(np.array([[3,4],[5,6]]))\n"
   ]
  },
  {
   "cell_type": "markdown",
   "metadata": {},
   "source": [
    "# creating random tensors"
   ]
  },
  {
   "cell_type": "code",
   "execution_count": 20,
   "metadata": {},
   "outputs": [
    {
     "name": "stdout",
     "output_type": "stream",
     "text": [
      "random1 tensor is :[[-1.0130816   0.28291714  1.2132233 ]\n",
      " [ 0.46988967  0.37944323 -0.6664026 ]\n",
      " [ 0.6054596   0.19181173  0.8045827 ]]\n",
      "random2 tensor is :[[ 0.6660277   1.3501992   1.8031954 ]\n",
      " [ 1.4226911   0.04117621  1.3548882 ]\n",
      " [-1.3288164  -0.88940024  0.30758014]]\n",
      "tf.Tensor(\n",
      "[[False False False]\n",
      " [False False False]\n",
      " [False False False]], shape=(3, 3), dtype=bool)\n",
      "random3 tensor is :[[-1.0130816   0.28291714  1.2132233 ]\n",
      " [ 0.46988967  0.37944323 -0.6664026 ]\n",
      " [ 0.6054596   0.19181173  0.8045827 ]]\n",
      "random4 tensor is :[[-1.0130816   0.28291714  1.2132233 ]\n",
      " [ 0.46988967  0.37944323 -0.6664026 ]\n",
      " [ 0.6054596   0.19181173  0.8045827 ]]\n",
      "tf.Tensor(\n",
      "[[ True  True  True]\n",
      " [ True  True  True]\n",
      " [ True  True  True]], shape=(3, 3), dtype=bool)\n"
     ]
    }
   ],
   "source": [
    "# create two but the same tensor /psudo random number\n",
    "\n",
    "## use the same generator twice will cause different tensor \n",
    "generator = tf.random.Generator.from_seed(12)\n",
    "random1 = generator.normal(shape = (3,3))\n",
    "random2 = generator.normal(shape = (3,3))\n",
    "print(\"random1 tensor is :{}\".format(random1))\n",
    "print(\"random2 tensor is :{}\".format(random2))\n",
    "print(random1 == random2)  # this operation will get the bool matrix\n",
    "\n",
    "# use the same but different piece of generator will generate same entity\n",
    "generator3 = tf.random.Generator.from_seed(12)\n",
    "generator4 = tf.random.Generator.from_seed(12)\n",
    "random3 = generator3.normal(shape=(3, 3))\n",
    "random4 = generator4.normal(shape=(3, 3))\n",
    "print(\"random3 tensor is :{}\".format(random3))\n",
    "print(\"random4 tensor is :{}\".format(random4))\n",
    "print(random3 == random4)\n"
   ]
  }
 ],
 "metadata": {
  "interpreter": {
   "hash": "1513c558104143c9342deba70e5828cd4c39a134479ea9220253fbe85c0c4494"
  },
  "kernelspec": {
   "display_name": "Python 3.9.7 64-bit ('nlp': conda)",
   "language": "python",
   "name": "python3"
  },
  "language_info": {
   "codemirror_mode": {
    "name": "ipython",
    "version": 3
   },
   "file_extension": ".py",
   "mimetype": "text/x-python",
   "name": "python",
   "nbconvert_exporter": "python",
   "pygments_lexer": "ipython3",
   "version": "3.9.7"
  },
  "orig_nbformat": 4
 },
 "nbformat": 4,
 "nbformat_minor": 2
}
