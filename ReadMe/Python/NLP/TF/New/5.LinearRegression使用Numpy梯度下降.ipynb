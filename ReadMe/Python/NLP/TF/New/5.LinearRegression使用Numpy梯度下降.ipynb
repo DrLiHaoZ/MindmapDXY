{
 "cells": [
  {
   "cell_type": "code",
   "execution_count": null,
   "metadata": {},
   "outputs": [],
   "source": [
    "import numpy as np\n",
    "import math\n",
    "import matplotlib.pyplot as plt\n",
    "import pandas as pd\n",
    "\n",
    "X_raw = np.array([2013, 2014, 2015, 2016, 2017], dtype=np.int)\n",
    "y_raw = np.array([12000, 14000, 15000, 16000, 17500], dtype=np.float32)\n",
    "data = pd.DataFrame({'year': X_raw, 'price': y_raw})\n",
    "data\n"
   ]
  }
 ],
 "metadata": {
  "interpreter": {
   "hash": "5bb6dbbe88fcdce4ecef9aa52b6a97bbb516d58d945fae59c885187edba63ce9"
  },
  "kernelspec": {
   "display_name": "Python 3.6.13 64-bit ('nlp': conda)",
   "language": "python",
   "name": "python3"
  },
  "language_info": {
   "name": "python",
   "version": "3.6.13"
  },
  "orig_nbformat": 4
 },
 "nbformat": 4,
 "nbformat_minor": 2
}
